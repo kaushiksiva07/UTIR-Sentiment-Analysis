{
 "cells": [
  {
   "cell_type": "code",
   "execution_count": 75,
   "metadata": {},
   "outputs": [],
   "source": [
    "import pandas as pd\n",
    "from nltk.corpus import stopwords\n",
    "from nltk.tokenize import word_tokenize\n",
    "from collections import Counter\n",
    "from tensorflow.keras.preprocessing.text import Tokenizer\n",
    "from tensorflow.keras.preprocessing import sequence\n",
    "import numpy as np\n",
    "import torch\n",
    "from string import punctuation\n",
    "import os"
   ]
  },
  {
   "cell_type": "code",
   "execution_count": 81,
   "metadata": {},
   "outputs": [],
   "source": [
    "with open('C:/Users/kaush/Desktop/aclImdb/train/trainReviews.txt', 'r', encoding=\"utf8\") as f:\n",
    "    reviews = f.read()\n",
    "labels = pd.read_csv('C:/Users/kaush/Desktop/aclImdb/train/IMDBValuesTrain.txt', sep='delimiter', names=['Score'], engine = 'python')\n",
    "    "
   ]
  },
  {
   "cell_type": "code",
   "execution_count": 69,
   "metadata": {},
   "outputs": [],
   "source": [
    "reviews = reviews.lower()"
   ]
  },
  {
   "cell_type": "code",
   "execution_count": 85,
   "metadata": {},
   "outputs": [
    {
     "name": "stdout",
     "output_type": "stream",
     "text": [
      "[[ 3]\n",
      " [ 4]\n",
      " [ 4]\n",
      " ...\n",
      " [10]\n",
      " [ 8]\n",
      " [ 7]]\n"
     ]
    }
   ],
   "source": [
    "all_text = ''.join([c for c in reviews if c not in punctuation])\n",
    "\n",
    "reviews_split = all_text.split('\\n')\n",
    "\n",
    "labels = labels.to_numpy()\n"
   ]
  },
  {
   "cell_type": "code",
   "execution_count": 71,
   "metadata": {},
   "outputs": [],
   "source": [
    "all_text2 = ' '.join(reviews_split)\n",
    "\n",
    "words = all_text2.split()\n",
    "\n",
    "count_words = Counter(words)\n",
    "\n",
    "total_words = len(words)\n",
    "sorted_words = count_words.most_common(total_words)"
   ]
  },
  {
   "cell_type": "code",
   "execution_count": 72,
   "metadata": {},
   "outputs": [],
   "source": [
    "vocab_to_int = {w:i+1 for i, (w,c) in enumerate(sorted_words)}\n",
    "\n"
   ]
  },
  {
   "cell_type": "code",
   "execution_count": 73,
   "metadata": {},
   "outputs": [
    {
     "name": "stdout",
     "output_type": "stream",
     "text": [
      "[[63, 4, 3, 132, 36, 43, 7619, 1364, 15, 3, 4623, 499, 45, 16, 3, 614, 134, 11, 6, 3, 1274, 453, 4, 1749, 219, 3, 10833, 7739, 309, 6, 676, 77, 33, 2082, 1093, 3008, 32, 1, 918, 57550, 4, 29, 5405, 458, 8, 2587, 1749, 1, 218, 61, 16, 56, 802, 1292, 823, 244, 8, 40, 99, 126, 1462, 53, 143, 35, 1, 1075, 138, 27, 676, 126, 1, 14098, 406, 58, 93, 2231, 288, 770, 5, 3, 837, 14099, 20, 3, 1667, 679, 29, 124, 70, 22, 226, 102, 16, 46, 49, 607, 32, 707, 84, 32064, 32065, 707, 389, 3467, 13147, 2, 17217, 8386, 68, 27, 107, 3309], [4487, 13603, 499, 14, 3, 3468, 154, 8540, 13148, 1656, 6, 4844, 57, 16, 4425, 5823, 135, 11996, 5, 1003, 4941, 2991, 4488, 564, 1347, 36, 6, 1514, 97, 3, 737, 4, 57551, 5, 24, 3531, 7, 10834, 4, 8, 106, 3040, 5, 1, 1048, 14, 3, 4489, 78, 20, 2069, 6, 4488, 578, 2769, 7307, 43770, 39, 500, 1, 8540, 57552, 291, 126, 14, 4287, 18, 17218, 1, 1656, 6, 14623, 32, 1, 43771, 24234, 644, 26241, 24, 104, 24235, 15187, 16479, 20049, 2588, 486, 22572, 36, 3725, 1, 6090, 1030, 45, 16, 2700, 2589, 34, 1288, 5, 2024, 1, 4425, 12346, 1510, 20, 3, 22573, 1656, 3513, 20, 33, 4325, 1090, 18, 130, 244, 24, 4706, 24234, 209, 1846, 33, 3245, 18053, 7, 1, 4751, 1902, 1157, 4, 1, 1656, 5645, 8, 6606, 77, 1, 2040, 112, 8, 7988, 5, 1, 1336, 204, 4707, 7, 1, 750, 4, 1, 36644, 5949, 16, 996, 7, 347, 6265, 1101, 32066, 7, 251, 18054, 125, 6607, 1952, 126, 258, 1, 693, 12347, 15, 1, 4157, 14, 34, 13149, 327, 16, 61, 828, 609, 2470, 12, 78, 616, 484, 1, 1047, 265, 32067, 4487, 6266, 10, 325, 766, 5, 1, 32068, 1725, 772, 4487, 5515, 13, 519, 32, 1454, 10089, 130, 271, 172, 38, 29, 8246, 9, 174, 129, 4487, 13603, 6, 98, 424, 4, 1574, 349, 8, 6, 441, 254, 21, 2616, 15, 1, 204, 1009, 45, 4, 1, 289, 4487, 94, 9, 25, 107, 37, 233, 9, 155, 404, 10, 28, 1, 114, 40, 8, 43, 55, 1575, 113, 4, 1, 289, 16, 3, 316, 17218, 17219, 91, 1, 6606, 152, 26, 67, 1, 3245, 18053, 6166, 4, 1, 13148, 269, 1, 1338, 65, 257, 5, 2041, 1, 197, 4487, 16, 153, 1044, 1725, 518, 4, 1, 832, 1, 36645, 1220, 4662, 20050, 6, 112, 8, 2587, 350, 1, 128, 16, 3, 5187, 6608, 4326, 143, 2590, 973, 351, 43772, 50, 1, 996, 1139, 45, 41, 11393, 14, 1, 13148, 28812, 41, 44, 98, 4, 1, 3469, 23, 3040, 29, 3, 527, 314, 11, 95, 25, 90, 15, 3, 84, 110, 1725, 518, 18, 83, 6805, 101, 756, 406, 12735, 10310, 3, 145, 558, 4, 2356, 41, 865, 41, 1067, 785, 10, 6, 3, 1025, 1372, 130, 1, 238, 13150, 113, 901, 28, 2192, 15, 24236, 1027, 232, 21, 11, 72, 556, 100, 1, 1656, 7988, 212, 21, 14, 72, 9055, 14, 9, 198, 47, 138, 25, 74, 53, 50, 1, 2937, 394, 560, 179, 89, 1273, 57, 11, 72, 16, 3, 162, 640, 4, 628, 4039, 11101, 1514, 42, 18, 212, 40, 139, 1858, 131, 725, 4158, 14, 1, 43773, 12348, 4663, 884, 43774, 6, 142, 18, 60, 201, 3, 364, 4, 136, 1153, 53, 537, 227, 18055, 5, 40, 163, 3780, 7, 1, 16480, 12, 1, 344, 392, 2188, 305, 4, 4487, 13603, 529, 24236, 232, 130, 1, 169, 243, 1978, 742, 33, 1743, 559, 4, 906, 571, 3, 154, 614, 907, 701, 105, 51, 136, 16, 725, 4158, 14, 43774, 2070, 5, 2357, 45, 101, 1178, 2212, 136, 1, 3946, 41, 153, 364, 4, 357, 2346, 571, 1, 36646, 130, 9, 58, 38, 5, 67, 10, 1743, 906, 9, 236, 21, 242, 9, 95, 849, 140, 3, 778, 289, 559, 641, 4, 4487, 13603, 14, 853, 1, 19, 43, 1903, 912, 16, 508, 7989, 7620, 1589, 2852, 9, 76, 129, 56, 51, 80, 70, 1, 3009, 1656, 2189, 302, 680, 84, 351, 353, 16, 1, 80, 104, 4487, 2213, 10, 291, 3057, 4, 268, 7, 1, 11394, 2071, 2441, 4, 893, 254, 9, 68, 102, 4, 739, 4, 435, 94, 70, 10, 37, 9, 11102, 173, 3, 110, 2428, 1, 215, 136, 23, 3, 110, 756, 458, 1, 1051, 6, 593, 21, 72, 2306, 41, 1067, 6, 5297, 59, 6, 3, 893, 14, 9, 11102, 10, 95, 25, 74, 3, 178, 49, 19, 44, 90, 24237, 12, 1, 360, 1199, 23, 2651, 44, 157, 2056, 1, 111, 206, 84, 104, 61, 812, 2322, 704, 4327, 43, 290, 230, 8, 13, 3, 1337, 5, 331, 7, 10, 28, 61, 812, 2322, 564, 1347, 262, 164, 11674, 78, 28, 61, 812, 2322, 838, 2062, 262, 1896, 130, 2617, 1319, 838, 6, 334, 110, 5, 81, 47, 23, 923, 4, 80, 1062, 1554, 5, 163, 45, 15, 3179, 12, 4487, 13603, 6, 1, 87, 1725, 28813, 4, 1, 289, 4487, 94, 37, 233, 9, 404, 1, 979, 492, 8, 53, 44, 34, 65, 3, 220, 698, 1, 360, 1869, 462, 144, 327, 148, 3, 19, 42, 3, 16481, 1656, 40, 1541, 27, 10, 355, 41, 12735, 1417, 32, 1, 28814, 4487, 13604, 5581], [10, 19, 3586, 139, 9, 403, 266, 55, 4534, 20, 30, 85, 3285, 20, 1, 170, 4, 1, 943, 511, 10, 4883, 5356, 5, 558, 4, 1144, 50, 54, 5298, 1, 292, 16, 39, 943, 132, 53, 1, 717, 136, 365, 606, 14, 106, 1450, 1, 151, 30, 295, 8, 95, 52, 73, 25, 74, 1, 171, 36, 43775, 48, 26, 874, 35, 1, 151, 9, 40, 89, 6091, 12, 18, 95, 8, 25, 74, 1, 873, 40, 592, 36, 13, 1, 9876, 7, 115, 16, 26, 445, 51, 15816, 4, 24, 32069, 1909, 2, 3840, 2, 1065, 4, 303, 2, 24, 6167, 6092, 70, 4, 1744, 41, 227, 328, 26, 109, 2285, 69, 26, 13, 7, 115, 16, 1, 57553, 12, 9, 13, 702, 7, 10, 17, 18, 89, 833, 8, 13, 2347, 15, 33, 812, 37, 1853, 15, 625]]\n"
     ]
    }
   ],
   "source": [
    "reviews_int = []\n",
    "for reviews in reviews_split:\n",
    "    r = [vocab_to_int[w] for w in reviews.split()]\n",
    "    reviews_int.append(r)\n"
   ]
  },
  {
   "cell_type": "code",
   "execution_count": 86,
   "metadata": {},
   "outputs": [
    {
     "name": "stdout",
     "output_type": "stream",
     "text": [
      "[0 0 0 ... 1 1 1]\n"
     ]
    }
   ],
   "source": [
    "# Change Review Score to Binary Score\n",
    "encoded_labels = [0 if label <= 5 else 1 for label in labels]\n",
    "encoded_labels = np.array(encoded_labels)\n",
    "print(encoded_labels)"
   ]
  },
  {
   "cell_type": "code",
   "execution_count": 88,
   "metadata": {},
   "outputs": [],
   "source": [
    "reviews_len = [len(x) for x in reviews_int]\n",
    "reviews_int = [reviews_int[i] for i, l in enumerate(reviews_len) if l > 0]\n",
    "encoded_labels = [encoded_labels[i] for i, l in enumerate(reviews_len) if l > 0]"
   ]
  },
  {
   "cell_type": "code",
   "execution_count": 93,
   "metadata": {},
   "outputs": [
    {
     "data": {
      "text/plain": [
       "array([[    0,     0,     0, ...,    27,   107,  3309],\n",
       "       [ 4487, 13603,   499, ...,     1, 32068,  1725],\n",
       "       [    0,     0,     0, ...,  1853,    15,   625],\n",
       "       ...,\n",
       "       [    9,   236,  2635, ...,    26,   598,    20],\n",
       "       [    0,     0,     0, ...,  3752,    14,    73],\n",
       "       [    0,     0,     0, ...,    80,    96,    35]])"
      ]
     },
     "execution_count": 93,
     "metadata": {},
     "output_type": "execute_result"
    }
   ],
   "source": [
    "seq_length = 200\n",
    "def pad_features(reviews_int, seq_length):\n",
    "    ''' Return features of review_ints, where each review is padded with 0's or truncated to the input seq_length.\n",
    "    '''\n",
    "    features = np.zeros((len(reviews_int), seq_length), dtype = int)\n",
    "    \n",
    "    for i, review in enumerate(reviews_int):\n",
    "        review_len = len(review)\n",
    "        \n",
    "        if review_len <= seq_length:\n",
    "            zeroes = list(np.zeros(seq_length-review_len))\n",
    "            new = zeroes+review\n",
    "        elif review_len > seq_length:\n",
    "            new = review[0:seq_length]\n",
    "        \n",
    "        features[i,:] = np.array(new)\n",
    "    \n",
    "    return features\n",
    "\n",
    "pad_features(reviews_int, seq_length)"
   ]
  },
  {
   "cell_type": "code",
   "execution_count": 90,
   "metadata": {},
   "outputs": [
    {
     "ename": "NameError",
     "evalue": "name 'features' is not defined",
     "output_type": "error",
     "traceback": [
      "\u001b[1;31m---------------------------------------------------------------------------\u001b[0m",
      "\u001b[1;31mNameError\u001b[0m                                 Traceback (most recent call last)",
      "\u001b[1;32m<ipython-input-90-24924cbb9dca>\u001b[0m in \u001b[0;36m<module>\u001b[1;34m\u001b[0m\n\u001b[1;32m----> 1\u001b[1;33m \u001b[0mprint\u001b[0m \u001b[1;33m(\u001b[0m\u001b[0mfeatures\u001b[0m\u001b[1;33m[\u001b[0m\u001b[1;33m:\u001b[0m\u001b[1;36m10\u001b[0m\u001b[1;33m,\u001b[0m\u001b[1;33m:\u001b[0m\u001b[1;33m]\u001b[0m\u001b[1;33m)\u001b[0m\u001b[1;33m\u001b[0m\u001b[1;33m\u001b[0m\u001b[0m\n\u001b[0m",
      "\u001b[1;31mNameError\u001b[0m: name 'features' is not defined"
     ]
    }
   ],
   "source": []
  },
  {
   "cell_type": "code",
   "execution_count": 88,
   "metadata": {},
   "outputs": [
    {
     "ename": "TypeError",
     "evalue": "unhashable type: 'list'",
     "output_type": "error",
     "traceback": [
      "\u001b[1;31m---------------------------------------------------------------------------\u001b[0m",
      "\u001b[1;31mTypeError\u001b[0m                                 Traceback (most recent call last)",
      "\u001b[1;32m<ipython-input-88-124a16fb432e>\u001b[0m in \u001b[0;36m<module>\u001b[1;34m\u001b[0m\n\u001b[1;32m----> 1\u001b[1;33m \u001b[0mcount_words\u001b[0m \u001b[1;33m=\u001b[0m \u001b[0mCounter\u001b[0m\u001b[1;33m(\u001b[0m\u001b[0mdf_reviews_train\u001b[0m\u001b[1;33m[\u001b[0m\u001b[1;34m'Review'\u001b[0m\u001b[1;33m]\u001b[0m\u001b[1;33m)\u001b[0m\u001b[1;33m\u001b[0m\u001b[1;33m\u001b[0m\u001b[0m\n\u001b[0m\u001b[0;32m      2\u001b[0m \u001b[0mtotal_words\u001b[0m \u001b[1;33m=\u001b[0m \u001b[0mlen\u001b[0m\u001b[1;33m(\u001b[0m\u001b[0mdf_reviews_train\u001b[0m\u001b[1;33m[\u001b[0m\u001b[1;34m'Review'\u001b[0m\u001b[1;33m]\u001b[0m\u001b[1;33m)\u001b[0m\u001b[1;33m\u001b[0m\u001b[1;33m\u001b[0m\u001b[0m\n\u001b[0;32m      3\u001b[0m \u001b[0msorted_words\u001b[0m \u001b[1;33m=\u001b[0m \u001b[0mcount_words\u001b[0m\u001b[1;33m.\u001b[0m\u001b[0mmost_common\u001b[0m\u001b[1;33m(\u001b[0m\u001b[0mtotal_words\u001b[0m\u001b[1;33m)\u001b[0m\u001b[1;33m\u001b[0m\u001b[1;33m\u001b[0m\u001b[0m\n\u001b[0;32m      4\u001b[0m \u001b[0mprint\u001b[0m\u001b[1;33m(\u001b[0m\u001b[0mcount_words\u001b[0m\u001b[1;33m)\u001b[0m\u001b[1;33m\u001b[0m\u001b[1;33m\u001b[0m\u001b[0m\n",
      "\u001b[1;32m~\\anaconda3\\lib\\collections\\__init__.py\u001b[0m in \u001b[0;36m__init__\u001b[1;34m(self, iterable, **kwds)\u001b[0m\n\u001b[0;32m    550\u001b[0m         '''\n\u001b[0;32m    551\u001b[0m         \u001b[0msuper\u001b[0m\u001b[1;33m(\u001b[0m\u001b[0mCounter\u001b[0m\u001b[1;33m,\u001b[0m \u001b[0mself\u001b[0m\u001b[1;33m)\u001b[0m\u001b[1;33m.\u001b[0m\u001b[0m__init__\u001b[0m\u001b[1;33m(\u001b[0m\u001b[1;33m)\u001b[0m\u001b[1;33m\u001b[0m\u001b[1;33m\u001b[0m\u001b[0m\n\u001b[1;32m--> 552\u001b[1;33m         \u001b[0mself\u001b[0m\u001b[1;33m.\u001b[0m\u001b[0mupdate\u001b[0m\u001b[1;33m(\u001b[0m\u001b[0miterable\u001b[0m\u001b[1;33m,\u001b[0m \u001b[1;33m**\u001b[0m\u001b[0mkwds\u001b[0m\u001b[1;33m)\u001b[0m\u001b[1;33m\u001b[0m\u001b[1;33m\u001b[0m\u001b[0m\n\u001b[0m\u001b[0;32m    553\u001b[0m \u001b[1;33m\u001b[0m\u001b[0m\n\u001b[0;32m    554\u001b[0m     \u001b[1;32mdef\u001b[0m \u001b[0m__missing__\u001b[0m\u001b[1;33m(\u001b[0m\u001b[0mself\u001b[0m\u001b[1;33m,\u001b[0m \u001b[0mkey\u001b[0m\u001b[1;33m)\u001b[0m\u001b[1;33m:\u001b[0m\u001b[1;33m\u001b[0m\u001b[1;33m\u001b[0m\u001b[0m\n",
      "\u001b[1;32m~\\anaconda3\\lib\\collections\\__init__.py\u001b[0m in \u001b[0;36mupdate\u001b[1;34m(self, iterable, **kwds)\u001b[0m\n\u001b[0;32m    635\u001b[0m                     \u001b[0msuper\u001b[0m\u001b[1;33m(\u001b[0m\u001b[0mCounter\u001b[0m\u001b[1;33m,\u001b[0m \u001b[0mself\u001b[0m\u001b[1;33m)\u001b[0m\u001b[1;33m.\u001b[0m\u001b[0mupdate\u001b[0m\u001b[1;33m(\u001b[0m\u001b[0miterable\u001b[0m\u001b[1;33m)\u001b[0m \u001b[1;31m# fast path when counter is empty\u001b[0m\u001b[1;33m\u001b[0m\u001b[1;33m\u001b[0m\u001b[0m\n\u001b[0;32m    636\u001b[0m             \u001b[1;32melse\u001b[0m\u001b[1;33m:\u001b[0m\u001b[1;33m\u001b[0m\u001b[1;33m\u001b[0m\u001b[0m\n\u001b[1;32m--> 637\u001b[1;33m                 \u001b[0m_count_elements\u001b[0m\u001b[1;33m(\u001b[0m\u001b[0mself\u001b[0m\u001b[1;33m,\u001b[0m \u001b[0miterable\u001b[0m\u001b[1;33m)\u001b[0m\u001b[1;33m\u001b[0m\u001b[1;33m\u001b[0m\u001b[0m\n\u001b[0m\u001b[0;32m    638\u001b[0m         \u001b[1;32mif\u001b[0m \u001b[0mkwds\u001b[0m\u001b[1;33m:\u001b[0m\u001b[1;33m\u001b[0m\u001b[1;33m\u001b[0m\u001b[0m\n\u001b[0;32m    639\u001b[0m             \u001b[0mself\u001b[0m\u001b[1;33m.\u001b[0m\u001b[0mupdate\u001b[0m\u001b[1;33m(\u001b[0m\u001b[0mkwds\u001b[0m\u001b[1;33m)\u001b[0m\u001b[1;33m\u001b[0m\u001b[1;33m\u001b[0m\u001b[0m\n",
      "\u001b[1;31mTypeError\u001b[0m: unhashable type: 'list'"
     ]
    }
   ],
   "source": [
    "count_words = Counter(df_reviews_train['Review'])\n",
    "total_words = len(df_reviews_train['Review'])\n",
    "sorted_words = count_words.most_common(total_words)\n",
    "print(count_words)"
   ]
  },
  {
   "cell_type": "code",
   "execution_count": 30,
   "metadata": {},
   "outputs": [
    {
     "name": "stdout",
     "output_type": "stream",
     "text": [
      "[[   11    49  7487 ...     0     0     0]\n",
      " [ 2899  1542  2069 ...  4362 13466  5454]\n",
      " [    3  3459    53 ...     0     0     0]\n",
      " ...\n",
      " [   71    14    19 ...   976   107  9625]\n",
      " [  845   192    66 ...     0     0     0]\n",
      " [13545   605   367 ...     0     0     0]]\n",
      "[[  328 12069  3133 ...     0     0     0]\n",
      " [  250   115    10 ...     3    82  2743]\n",
      " [   20   667  4855 ...     0     0     0]\n",
      " ...\n",
      " [   57   228     2 ...  3584    49   202]\n",
      " [    2  4551  4047 ...     0     0     0]\n",
      " [   99    33    11 ...     0     0     0]]\n"
     ]
    }
   ],
   "source": []
  },
  {
   "cell_type": "code",
   "execution_count": null,
   "metadata": {},
   "outputs": [],
   "source": []
  }
 ],
 "metadata": {
  "kernelspec": {
   "display_name": "Python 3",
   "language": "python",
   "name": "python3"
  },
  "language_info": {
   "codemirror_mode": {
    "name": "ipython",
    "version": 3
   },
   "file_extension": ".py",
   "mimetype": "text/x-python",
   "name": "python",
   "nbconvert_exporter": "python",
   "pygments_lexer": "ipython3",
   "version": "3.8.5"
  }
 },
 "nbformat": 4,
 "nbformat_minor": 4
}
